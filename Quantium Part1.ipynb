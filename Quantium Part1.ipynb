{
 "cells": [
  {
   "cell_type": "code",
   "execution_count": 1,
   "id": "27352f7b",
   "metadata": {},
   "outputs": [],
   "source": [
    "# importing Libraries\n",
    "\n",
    "import numpy as np\n",
    "import pandas as pd\n",
    "import matplotlib.pyplot as plt\n",
    "import seaborn as sns\n",
    "import re"
   ]
  },
  {
   "cell_type": "code",
   "execution_count": 2,
   "id": "8c020599",
   "metadata": {},
   "outputs": [],
   "source": [
    "# reading datasets\n",
    "purchase_behavior_df = pd.read_csv('quantinum _purchase_behavior.csv')\n",
    "transaction_data_df = pd.read_excel('quantinum _transaction_data.xlsx')"
   ]
  },
  {
   "cell_type": "code",
   "execution_count": 3,
   "id": "48fa9410",
   "metadata": {},
   "outputs": [],
   "source": [
    "# copying purchase behavior datasets for analysis\n",
    "pbdf = purchase_behavior_df.copy()"
   ]
  },
  {
   "cell_type": "code",
   "execution_count": 4,
   "id": "ad33aa74",
   "metadata": {},
   "outputs": [
    {
     "data": {
      "text/html": [
       "<div>\n",
       "<style scoped>\n",
       "    .dataframe tbody tr th:only-of-type {\n",
       "        vertical-align: middle;\n",
       "    }\n",
       "\n",
       "    .dataframe tbody tr th {\n",
       "        vertical-align: top;\n",
       "    }\n",
       "\n",
       "    .dataframe thead th {\n",
       "        text-align: right;\n",
       "    }\n",
       "</style>\n",
       "<table border=\"1\" class=\"dataframe\">\n",
       "  <thead>\n",
       "    <tr style=\"text-align: right;\">\n",
       "      <th></th>\n",
       "      <th>LYLTY_CARD_NBR</th>\n",
       "      <th>LIFESTAGE</th>\n",
       "      <th>PREMIUM_CUSTOMER</th>\n",
       "    </tr>\n",
       "  </thead>\n",
       "  <tbody>\n",
       "    <tr>\n",
       "      <th>0</th>\n",
       "      <td>1000</td>\n",
       "      <td>YOUNG SINGLES/COUPLES</td>\n",
       "      <td>Premium</td>\n",
       "    </tr>\n",
       "    <tr>\n",
       "      <th>1</th>\n",
       "      <td>1002</td>\n",
       "      <td>YOUNG SINGLES/COUPLES</td>\n",
       "      <td>Mainstream</td>\n",
       "    </tr>\n",
       "    <tr>\n",
       "      <th>2</th>\n",
       "      <td>1003</td>\n",
       "      <td>YOUNG FAMILIES</td>\n",
       "      <td>Budget</td>\n",
       "    </tr>\n",
       "    <tr>\n",
       "      <th>3</th>\n",
       "      <td>1004</td>\n",
       "      <td>OLDER SINGLES/COUPLES</td>\n",
       "      <td>Mainstream</td>\n",
       "    </tr>\n",
       "    <tr>\n",
       "      <th>4</th>\n",
       "      <td>1005</td>\n",
       "      <td>MIDAGE SINGLES/COUPLES</td>\n",
       "      <td>Mainstream</td>\n",
       "    </tr>\n",
       "  </tbody>\n",
       "</table>\n",
       "</div>"
      ],
      "text/plain": [
       "   LYLTY_CARD_NBR               LIFESTAGE PREMIUM_CUSTOMER\n",
       "0            1000   YOUNG SINGLES/COUPLES          Premium\n",
       "1            1002   YOUNG SINGLES/COUPLES       Mainstream\n",
       "2            1003          YOUNG FAMILIES           Budget\n",
       "3            1004   OLDER SINGLES/COUPLES       Mainstream\n",
       "4            1005  MIDAGE SINGLES/COUPLES       Mainstream"
      ]
     },
     "execution_count": 4,
     "metadata": {},
     "output_type": "execute_result"
    }
   ],
   "source": [
    "pbdf.head()"
   ]
  },
  {
   "cell_type": "code",
   "execution_count": 5,
   "id": "6716ab47",
   "metadata": {},
   "outputs": [
    {
     "data": {
      "text/plain": [
       "(72637, 3)"
      ]
     },
     "execution_count": 5,
     "metadata": {},
     "output_type": "execute_result"
    }
   ],
   "source": [
    "#checking shapes\n",
    "pbdf.shape"
   ]
  },
  {
   "cell_type": "code",
   "execution_count": 6,
   "id": "2d2f67d9",
   "metadata": {},
   "outputs": [
    {
     "data": {
      "text/plain": [
       "Index(['LYLTY_CARD_NBR', 'LIFESTAGE', 'PREMIUM_CUSTOMER'], dtype='object')"
      ]
     },
     "execution_count": 6,
     "metadata": {},
     "output_type": "execute_result"
    }
   ],
   "source": [
    "pbdf.columns"
   ]
  },
  {
   "cell_type": "code",
   "execution_count": 7,
   "id": "09edcccd",
   "metadata": {},
   "outputs": [
    {
     "data": {
      "text/plain": [
       "LYLTY_CARD_NBR       int64\n",
       "LIFESTAGE           object\n",
       "PREMIUM_CUSTOMER    object\n",
       "dtype: object"
      ]
     },
     "execution_count": 7,
     "metadata": {},
     "output_type": "execute_result"
    }
   ],
   "source": [
    "pbdf.dtypes"
   ]
  },
  {
   "cell_type": "code",
   "execution_count": 8,
   "id": "3c853cbe",
   "metadata": {},
   "outputs": [
    {
     "name": "stdout",
     "output_type": "stream",
     "text": [
      "<class 'pandas.core.frame.DataFrame'>\n",
      "RangeIndex: 72637 entries, 0 to 72636\n",
      "Data columns (total 3 columns):\n",
      " #   Column            Non-Null Count  Dtype \n",
      "---  ------            --------------  ----- \n",
      " 0   LYLTY_CARD_NBR    72637 non-null  int64 \n",
      " 1   LIFESTAGE         72637 non-null  object\n",
      " 2   PREMIUM_CUSTOMER  72637 non-null  object\n",
      "dtypes: int64(1), object(2)\n",
      "memory usage: 1.7+ MB\n"
     ]
    }
   ],
   "source": [
    "pbdf.info()"
   ]
  },
  {
   "cell_type": "code",
   "execution_count": 9,
   "id": "f267ed42",
   "metadata": {},
   "outputs": [
    {
     "name": "stdout",
     "output_type": "stream",
     "text": [
      "Null values is each columns:\n"
     ]
    },
    {
     "data": {
      "text/plain": [
       "LYLTY_CARD_NBR      0\n",
       "LIFESTAGE           0\n",
       "PREMIUM_CUSTOMER    0\n",
       "dtype: int64"
      ]
     },
     "execution_count": 9,
     "metadata": {},
     "output_type": "execute_result"
    }
   ],
   "source": [
    "#checking for null values\n",
    "print(\"Null values is each columns:\")\n",
    "pbdf.isnull().sum()"
   ]
  },
  {
   "cell_type": "code",
   "execution_count": 10,
   "id": "2cdbc6a3",
   "metadata": {},
   "outputs": [
    {
     "name": "stdout",
     "output_type": "stream",
     "text": [
      "Total number of Duplicate rows::0\n"
     ]
    }
   ],
   "source": [
    "#checking for duplicate value\n",
    "print(f'Total number of Duplicate rows::{pbdf.duplicated().sum()}')"
   ]
  },
  {
   "cell_type": "code",
   "execution_count": 11,
   "id": "a3dfd707",
   "metadata": {},
   "outputs": [
    {
     "data": {
      "text/html": [
       "<div>\n",
       "<style scoped>\n",
       "    .dataframe tbody tr th:only-of-type {\n",
       "        vertical-align: middle;\n",
       "    }\n",
       "\n",
       "    .dataframe tbody tr th {\n",
       "        vertical-align: top;\n",
       "    }\n",
       "\n",
       "    .dataframe thead th {\n",
       "        text-align: right;\n",
       "    }\n",
       "</style>\n",
       "<table border=\"1\" class=\"dataframe\">\n",
       "  <thead>\n",
       "    <tr style=\"text-align: right;\">\n",
       "      <th></th>\n",
       "      <th>count</th>\n",
       "      <th>mean</th>\n",
       "      <th>std</th>\n",
       "      <th>min</th>\n",
       "      <th>25%</th>\n",
       "      <th>50%</th>\n",
       "      <th>75%</th>\n",
       "      <th>max</th>\n",
       "    </tr>\n",
       "  </thead>\n",
       "  <tbody>\n",
       "    <tr>\n",
       "      <th>LYLTY_CARD_NBR</th>\n",
       "      <td>72637.0</td>\n",
       "      <td>136185.93177</td>\n",
       "      <td>89892.932014</td>\n",
       "      <td>1000.0</td>\n",
       "      <td>66202.0</td>\n",
       "      <td>134040.0</td>\n",
       "      <td>203375.0</td>\n",
       "      <td>2373711.0</td>\n",
       "    </tr>\n",
       "  </tbody>\n",
       "</table>\n",
       "</div>"
      ],
      "text/plain": [
       "                  count          mean           std     min      25%  \\\n",
       "LYLTY_CARD_NBR  72637.0  136185.93177  89892.932014  1000.0  66202.0   \n",
       "\n",
       "                     50%       75%        max  \n",
       "LYLTY_CARD_NBR  134040.0  203375.0  2373711.0  "
      ]
     },
     "execution_count": 11,
     "metadata": {},
     "output_type": "execute_result"
    }
   ],
   "source": [
    "pbdf.describe().T"
   ]
  },
  {
   "cell_type": "code",
   "execution_count": 12,
   "id": "b32e5f4b",
   "metadata": {
    "scrolled": true
   },
   "outputs": [
    {
     "data": {
      "text/plain": [
       "LIFESTAGE\n",
       "RETIREES                  14805\n",
       "OLDER SINGLES/COUPLES     14609\n",
       "YOUNG SINGLES/COUPLES     14441\n",
       "OLDER FAMILIES             9780\n",
       "YOUNG FAMILIES             9178\n",
       "MIDAGE SINGLES/COUPLES     7275\n",
       "NEW FAMILIES               2549\n",
       "Name: count, dtype: int64"
      ]
     },
     "execution_count": 12,
     "metadata": {},
     "output_type": "execute_result"
    }
   ],
   "source": [
    "customer_lifestage = pbdf['LIFESTAGE'].value_counts()\n",
    "customer_lifestage"
   ]
  },
  {
   "cell_type": "code",
   "execution_count": 13,
   "id": "87cd63eb",
   "metadata": {},
   "outputs": [
    {
     "data": {
      "image/png": "[encoded data removed]",
      "text/plain": [
       "<Figure size 1600x600 with 1 Axes>"
      ]
     },
     "metadata": {},
     "output_type": "display_data"
    }
   ],
   "source": [
    "plt.figure(figsize = (16,6))\n",
    "bars = customer_lifestage.plot(kind = 'bar')\n",
    "plt.xlabel('Different Lifestages')\n",
    "plt.ylabel('Count')\n",
    "plt.show()"
   ]
  },
  {
   "cell_type": "code",
   "execution_count": 14,
   "id": "fcdaf89b",
   "metadata": {
    "scrolled": true
   },
   "outputs": [
    {
     "data": {
      "text/plain": [
       "PREMIUM_CUSTOMER\n",
       "Mainstream    29245\n",
       "Budget        24470\n",
       "Premium       18922\n",
       "Name: count, dtype: int64"
      ]
     },
     "execution_count": 14,
     "metadata": {},
     "output_type": "execute_result"
    }
   ],
   "source": [
    "customer_type = pbdf['PREMIUM_CUSTOMER'].value_counts()\n",
    "customer_type"
   ]
  },
  {
   "cell_type": "code",
   "execution_count": 15,
   "id": "eed283d1",
   "metadata": {},
   "outputs": [
    {
     "data": {
      "image/png": "[encoded data removed]",
      "text/plain": [
       "<Figure size 1600x600 with 1 Axes>"
      ]
     },
     "metadata": {},
     "output_type": "display_data"
    }
   ],
   "source": [
    "plt.figure(figsize = (16,6))\n",
    "bars = customer_type.plot(kind = 'bar')\n",
    "plt.xlabel('Different Customer Types')\n",
    "plt.ylabel('Count')\n",
    "plt.show()"
   ]
  },
  {
   "cell_type": "code",
   "execution_count": 16,
   "id": "97ae75df",
   "metadata": {},
   "outputs": [
    {
     "data": {
      "text/plain": [
       "<Axes: >"
      ]
     },
     "execution_count": 16,
     "metadata": {},
     "output_type": "execute_result"
    },
    {
     "data": {
      "image/png": "[encoded data removed]",
      "text/plain": [
       "<Figure size 640x480 with 1 Axes>"
      ]
     },
     "metadata": {},
     "output_type": "display_data"
    }
   ],
   "source": [
    "# checking for outliers\n",
    "sns.boxplot(data = pbdf)"
   ]
  },
  {
   "cell_type": "markdown",
   "id": "f9109424",
   "metadata": {},
   "source": [
    "Since colum 'LYLTY_CARD_NBR' is just a card number and won't affect the analysis no need for removing outliers"
   ]
  },
  {
   "cell_type": "code",
   "execution_count": 17,
   "id": "dc8f3f47",
   "metadata": {},
   "outputs": [
    {
     "data": {
      "text/plain": [
       "1000"
      ]
     },
     "execution_count": 17,
     "metadata": {},
     "output_type": "execute_result"
    }
   ],
   "source": [
    "pbdf['LYLTY_CARD_NBR'].min()"
   ]
  },
  {
   "cell_type": "code",
   "execution_count": 18,
   "id": "d62327b1",
   "metadata": {},
   "outputs": [
    {
     "data": {
      "text/plain": [
       "2373711"
      ]
     },
     "execution_count": 18,
     "metadata": {},
     "output_type": "execute_result"
    }
   ],
   "source": [
    "pbdf['LYLTY_CARD_NBR'].max()"
   ]
  },
  {
   "cell_type": "markdown",
   "id": "679540e6",
   "metadata": {},
   "source": [
    "# Transaction analysis\n"
   ]
  },
  {
   "cell_type": "code",
   "execution_count": 19,
   "id": "41d93bc0",
   "metadata": {},
   "outputs": [],
   "source": [
    "#copying transaction_data_df \n",
    "tdf = transaction_data_df.copy()"
   ]
  },
  {
   "cell_type": "code",
   "execution_count": 20,
   "id": "01aa69bd",
   "metadata": {
    "scrolled": true
   },
   "outputs": [
    {
     "data": {
      "text/html": [
       "<div>\n",
       "<style scoped>\n",
       "    .dataframe tbody tr th:only-of-type {\n",
       "        vertical-align: middle;\n",
       "    }\n",
       "\n",
       "    .dataframe tbody tr th {\n",
       "        vertical-align: top;\n",
       "    }\n",
       "\n",
       "    .dataframe thead th {\n",
       "        text-align: right;\n",
       "    }\n",
       "</style>\n",
       "<table border=\"1\" class=\"dataframe\">\n",
       "  <thead>\n",
       "    <tr style=\"text-align: right;\">\n",
       "      <th></th>\n",
       "      <th>DATE</th>\n",
       "      <th>STORE_NBR</th>\n",
       "      <th>LYLTY_CARD_NBR</th>\n",
       "      <th>TXN_ID</th>\n",
       "      <th>PROD_NBR</th>\n",
       "      <th>PROD_NAME</th>\n",
       "      <th>PROD_QTY</th>\n",
       "      <th>TOT_SALES</th>\n",
       "    </tr>\n",
       "  </thead>\n",
       "  <tbody>\n",
       "    <tr>\n",
       "      <th>0</th>\n",
       "      <td>43390</td>\n",
       "      <td>1</td>\n",
       "      <td>1000</td>\n",
       "      <td>1</td>\n",
       "      <td>5</td>\n",
       "      <td>Natural Chip        Compny SeaSalt175g</td>\n",
       "      <td>2</td>\n",
       "      <td>6.0</td>\n",
       "    </tr>\n",
       "    <tr>\n",
       "      <th>1</th>\n",
       "      <td>43599</td>\n",
       "      <td>1</td>\n",
       "      <td>1307</td>\n",
       "      <td>348</td>\n",
       "      <td>66</td>\n",
       "      <td>CCs Nacho Cheese    175g</td>\n",
       "      <td>3</td>\n",
       "      <td>6.3</td>\n",
       "    </tr>\n",
       "    <tr>\n",
       "      <th>2</th>\n",
       "      <td>43605</td>\n",
       "      <td>1</td>\n",
       "      <td>1343</td>\n",
       "      <td>383</td>\n",
       "      <td>61</td>\n",
       "      <td>Smiths Crinkle Cut  Chips Chicken 170g</td>\n",
       "      <td>2</td>\n",
       "      <td>2.9</td>\n",
       "    </tr>\n",
       "    <tr>\n",
       "      <th>3</th>\n",
       "      <td>43329</td>\n",
       "      <td>2</td>\n",
       "      <td>2373</td>\n",
       "      <td>974</td>\n",
       "      <td>69</td>\n",
       "      <td>Smiths Chip Thinly  S/Cream&amp;Onion 175g</td>\n",
       "      <td>5</td>\n",
       "      <td>15.0</td>\n",
       "    </tr>\n",
       "    <tr>\n",
       "      <th>4</th>\n",
       "      <td>43330</td>\n",
       "      <td>2</td>\n",
       "      <td>2426</td>\n",
       "      <td>1038</td>\n",
       "      <td>108</td>\n",
       "      <td>Kettle Tortilla ChpsHny&amp;Jlpno Chili 150g</td>\n",
       "      <td>3</td>\n",
       "      <td>13.8</td>\n",
       "    </tr>\n",
       "  </tbody>\n",
       "</table>\n",
       "</div>"
      ],
      "text/plain": [
       "    DATE  STORE_NBR  LYLTY_CARD_NBR  TXN_ID  PROD_NBR  \\\n",
       "0  43390          1            1000       1         5   \n",
       "1  43599          1            1307     348        66   \n",
       "2  43605          1            1343     383        61   \n",
       "3  43329          2            2373     974        69   \n",
       "4  43330          2            2426    1038       108   \n",
       "\n",
       "                                  PROD_NAME  PROD_QTY  TOT_SALES  \n",
       "0    Natural Chip        Compny SeaSalt175g         2        6.0  \n",
       "1                  CCs Nacho Cheese    175g         3        6.3  \n",
       "2    Smiths Crinkle Cut  Chips Chicken 170g         2        2.9  \n",
       "3    Smiths Chip Thinly  S/Cream&Onion 175g         5       15.0  \n",
       "4  Kettle Tortilla ChpsHny&Jlpno Chili 150g         3       13.8  "
      ]
     },
     "execution_count": 20,
     "metadata": {},
     "output_type": "execute_result"
    }
   ],
   "source": [
    "tdf.head()"
   ]
  },
  {
   "cell_type": "code",
   "execution_count": 21,
   "id": "373df013",
   "metadata": {},
   "outputs": [
    {
     "data": {
      "text/plain": [
       "(264836, 8)"
      ]
     },
     "execution_count": 21,
     "metadata": {},
     "output_type": "execute_result"
    }
   ],
   "source": [
    "tdf.shape"
   ]
  },
  {
   "cell_type": "code",
   "execution_count": 22,
   "id": "7d78b441",
   "metadata": {},
   "outputs": [
    {
     "data": {
      "text/plain": [
       "DATE              0\n",
       "STORE_NBR         0\n",
       "LYLTY_CARD_NBR    0\n",
       "TXN_ID            0\n",
       "PROD_NBR          0\n",
       "PROD_NAME         0\n",
       "PROD_QTY          0\n",
       "TOT_SALES         0\n",
       "dtype: int64"
      ]
     },
     "execution_count": 22,
     "metadata": {},
     "output_type": "execute_result"
    }
   ],
   "source": [
    "# checking for null value\n",
    "tdf.isnull().sum()"
   ]
  },
  {
   "cell_type": "code",
   "execution_count": 23,
   "id": "272e43ed",
   "metadata": {},
   "outputs": [
    {
     "name": "stdout",
     "output_type": "stream",
     "text": [
      "Total number of Duplicate rows::1\n"
     ]
    }
   ],
   "source": [
    "#checking for duplicate rows\n",
    "tdf.duplicated().sum()\n",
    "print(f'Total number of Duplicate rows::{tdf.duplicated().sum()}')"
   ]
  },
  {
   "cell_type": "code",
   "execution_count": 24,
   "id": "02ce743a",
   "metadata": {},
   "outputs": [
    {
     "name": "stdout",
     "output_type": "stream",
     "text": [
      "Total number of Duplicate rows::0\n"
     ]
    }
   ],
   "source": [
    "#removing duplicate value\n",
    "tdf.drop_duplicates(inplace = True)\n",
    "print(f'Total number of Duplicate rows::{tdf.duplicated().sum()}')"
   ]
  },
  {
   "cell_type": "code",
   "execution_count": 25,
   "id": "cc561ae6",
   "metadata": {},
   "outputs": [
    {
     "name": "stdout",
     "output_type": "stream",
     "text": [
      "<class 'pandas.core.frame.DataFrame'>\n",
      "Index: 264835 entries, 0 to 264835\n",
      "Data columns (total 8 columns):\n",
      " #   Column          Non-Null Count   Dtype  \n",
      "---  ------          --------------   -----  \n",
      " 0   DATE            264835 non-null  int64  \n",
      " 1   STORE_NBR       264835 non-null  int64  \n",
      " 2   LYLTY_CARD_NBR  264835 non-null  int64  \n",
      " 3   TXN_ID          264835 non-null  int64  \n",
      " 4   PROD_NBR        264835 non-null  int64  \n",
      " 5   PROD_NAME       264835 non-null  object \n",
      " 6   PROD_QTY        264835 non-null  int64  \n",
      " 7   TOT_SALES       264835 non-null  float64\n",
      "dtypes: float64(1), int64(6), object(1)\n",
      "memory usage: 18.2+ MB\n"
     ]
    }
   ],
   "source": [
    "tdf.info()"
   ]
  },
  {
   "cell_type": "code",
   "execution_count": 26,
   "id": "480edbc9",
   "metadata": {},
   "outputs": [],
   "source": [
    "#tdf['DATE'] = pd.to_datetime(tdf['DATE'],unit='D')"
   ]
  },
  {
   "cell_type": "code",
   "execution_count": 27,
   "id": "5685e161",
   "metadata": {},
   "outputs": [
    {
     "data": {
      "text/plain": [
       "0        2018-10-17\n",
       "1        2019-05-14\n",
       "2        2019-05-20\n",
       "3        2018-08-17\n",
       "4        2018-08-18\n",
       "            ...    \n",
       "264831   2019-03-09\n",
       "264832   2018-08-13\n",
       "264833   2018-11-06\n",
       "264834   2018-12-27\n",
       "264835   2018-09-22\n",
       "Name: DATE, Length: 264835, dtype: datetime64[ns]"
      ]
     },
     "execution_count": 27,
     "metadata": {},
     "output_type": "execute_result"
    }
   ],
   "source": [
    "base_date = pd.Timestamp('1899-12-30')\n",
    "tdf['DATE'] = base_date + pd.to_timedelta(tdf['DATE'], unit='D')\n",
    "tdf['DATE']"
   ]
  },
  {
   "cell_type": "code",
   "execution_count": 28,
   "id": "c3faa12a",
   "metadata": {},
   "outputs": [
    {
     "data": {
      "text/plain": [
       "DATE              datetime64[ns]\n",
       "STORE_NBR                  int64\n",
       "LYLTY_CARD_NBR             int64\n",
       "TXN_ID                     int64\n",
       "PROD_NBR                   int64\n",
       "PROD_NAME                 object\n",
       "PROD_QTY                   int64\n",
       "TOT_SALES                float64\n",
       "dtype: object"
      ]
     },
     "execution_count": 28,
     "metadata": {},
     "output_type": "execute_result"
    }
   ],
   "source": [
    "tdf.dtypes"
   ]
  },
  {
   "cell_type": "code",
   "execution_count": 29,
   "id": "1088d7af",
   "metadata": {},
   "outputs": [
    {
     "data": {
      "text/html": [
       "<div>\n",
       "<style scoped>\n",
       "    .dataframe tbody tr th:only-of-type {\n",
       "        vertical-align: middle;\n",
       "    }\n",
       "\n",
       "    .dataframe tbody tr th {\n",
       "        vertical-align: top;\n",
       "    }\n",
       "\n",
       "    .dataframe thead th {\n",
       "        text-align: right;\n",
       "    }\n",
       "</style>\n",
       "<table border=\"1\" class=\"dataframe\">\n",
       "  <thead>\n",
       "    <tr style=\"text-align: right;\">\n",
       "      <th></th>\n",
       "      <th>count</th>\n",
       "      <th>mean</th>\n",
       "      <th>min</th>\n",
       "      <th>25%</th>\n",
       "      <th>50%</th>\n",
       "      <th>75%</th>\n",
       "      <th>max</th>\n",
       "      <th>std</th>\n",
       "    </tr>\n",
       "  </thead>\n",
       "  <tbody>\n",
       "    <tr>\n",
       "      <th>DATE</th>\n",
       "      <td>264835</td>\n",
       "      <td>2018-12-30 00:52:42.252722944</td>\n",
       "      <td>2018-07-01 00:00:00</td>\n",
       "      <td>2018-09-30 00:00:00</td>\n",
       "      <td>2018-12-30 00:00:00</td>\n",
       "      <td>2019-03-31 00:00:00</td>\n",
       "      <td>2019-06-30 00:00:00</td>\n",
       "      <td>NaN</td>\n",
       "    </tr>\n",
       "    <tr>\n",
       "      <th>STORE_NBR</th>\n",
       "      <td>264835.0</td>\n",
       "      <td>135.080216</td>\n",
       "      <td>1.0</td>\n",
       "      <td>70.0</td>\n",
       "      <td>130.0</td>\n",
       "      <td>203.0</td>\n",
       "      <td>272.0</td>\n",
       "      <td>76.784306</td>\n",
       "    </tr>\n",
       "    <tr>\n",
       "      <th>LYLTY_CARD_NBR</th>\n",
       "      <td>264835.0</td>\n",
       "      <td>135549.584115</td>\n",
       "      <td>1000.0</td>\n",
       "      <td>70021.0</td>\n",
       "      <td>130358.0</td>\n",
       "      <td>203094.5</td>\n",
       "      <td>2373711.0</td>\n",
       "      <td>80580.11109</td>\n",
       "    </tr>\n",
       "    <tr>\n",
       "      <th>TXN_ID</th>\n",
       "      <td>264835.0</td>\n",
       "      <td>135158.411619</td>\n",
       "      <td>1.0</td>\n",
       "      <td>67601.0</td>\n",
       "      <td>135138.0</td>\n",
       "      <td>202701.5</td>\n",
       "      <td>2415841.0</td>\n",
       "      <td>78133.156318</td>\n",
       "    </tr>\n",
       "    <tr>\n",
       "      <th>PROD_NBR</th>\n",
       "      <td>264835.0</td>\n",
       "      <td>56.583201</td>\n",
       "      <td>1.0</td>\n",
       "      <td>28.0</td>\n",
       "      <td>56.0</td>\n",
       "      <td>85.0</td>\n",
       "      <td>114.0</td>\n",
       "      <td>32.826692</td>\n",
       "    </tr>\n",
       "    <tr>\n",
       "      <th>PROD_QTY</th>\n",
       "      <td>264835.0</td>\n",
       "      <td>1.907308</td>\n",
       "      <td>1.0</td>\n",
       "      <td>2.0</td>\n",
       "      <td>2.0</td>\n",
       "      <td>2.0</td>\n",
       "      <td>200.0</td>\n",
       "      <td>0.643655</td>\n",
       "    </tr>\n",
       "    <tr>\n",
       "      <th>TOT_SALES</th>\n",
       "      <td>264835.0</td>\n",
       "      <td>7.304205</td>\n",
       "      <td>1.5</td>\n",
       "      <td>5.4</td>\n",
       "      <td>7.4</td>\n",
       "      <td>9.2</td>\n",
       "      <td>650.0</td>\n",
       "      <td>3.083231</td>\n",
       "    </tr>\n",
       "  </tbody>\n",
       "</table>\n",
       "</div>"
      ],
      "text/plain": [
       "                   count                           mean                  min  \\\n",
       "DATE              264835  2018-12-30 00:52:42.252722944  2018-07-01 00:00:00   \n",
       "STORE_NBR       264835.0                     135.080216                  1.0   \n",
       "LYLTY_CARD_NBR  264835.0                  135549.584115               1000.0   \n",
       "TXN_ID          264835.0                  135158.411619                  1.0   \n",
       "PROD_NBR        264835.0                      56.583201                  1.0   \n",
       "PROD_QTY        264835.0                       1.907308                  1.0   \n",
       "TOT_SALES       264835.0                       7.304205                  1.5   \n",
       "\n",
       "                                25%                  50%                  75%  \\\n",
       "DATE            2018-09-30 00:00:00  2018-12-30 00:00:00  2019-03-31 00:00:00   \n",
       "STORE_NBR                      70.0                130.0                203.0   \n",
       "LYLTY_CARD_NBR              70021.0             130358.0             203094.5   \n",
       "TXN_ID                      67601.0             135138.0             202701.5   \n",
       "PROD_NBR                       28.0                 56.0                 85.0   \n",
       "PROD_QTY                        2.0                  2.0                  2.0   \n",
       "TOT_SALES                       5.4                  7.4                  9.2   \n",
       "\n",
       "                                max           std  \n",
       "DATE            2019-06-30 00:00:00           NaN  \n",
       "STORE_NBR                     272.0     76.784306  \n",
       "LYLTY_CARD_NBR            2373711.0   80580.11109  \n",
       "TXN_ID                    2415841.0  78133.156318  \n",
       "PROD_NBR                      114.0     32.826692  \n",
       "PROD_QTY                      200.0      0.643655  \n",
       "TOT_SALES                     650.0      3.083231  "
      ]
     },
     "execution_count": 29,
     "metadata": {},
     "output_type": "execute_result"
    }
   ],
   "source": [
    "tdf.describe().T"
   ]
  },
  {
   "cell_type": "code",
   "execution_count": 30,
   "id": "55a0f25d",
   "metadata": {},
   "outputs": [
    {
     "data": {
      "text/html": [
       "<div>\n",
       "<style scoped>\n",
       "    .dataframe tbody tr th:only-of-type {\n",
       "        vertical-align: middle;\n",
       "    }\n",
       "\n",
       "    .dataframe tbody tr th {\n",
       "        vertical-align: top;\n",
       "    }\n",
       "\n",
       "    .dataframe thead th {\n",
       "        text-align: right;\n",
       "    }\n",
       "</style>\n",
       "<table border=\"1\" class=\"dataframe\">\n",
       "  <thead>\n",
       "    <tr style=\"text-align: right;\">\n",
       "      <th></th>\n",
       "      <th>STORE_NBR</th>\n",
       "      <th>LYLTY_CARD_NBR</th>\n",
       "      <th>TXN_ID</th>\n",
       "      <th>PROD_NBR</th>\n",
       "      <th>PROD_QTY</th>\n",
       "      <th>TOT_SALES</th>\n",
       "    </tr>\n",
       "  </thead>\n",
       "  <tbody>\n",
       "    <tr>\n",
       "      <th>0</th>\n",
       "      <td>1</td>\n",
       "      <td>1000</td>\n",
       "      <td>1</td>\n",
       "      <td>5</td>\n",
       "      <td>2</td>\n",
       "      <td>6.0</td>\n",
       "    </tr>\n",
       "    <tr>\n",
       "      <th>1</th>\n",
       "      <td>1</td>\n",
       "      <td>1307</td>\n",
       "      <td>348</td>\n",
       "      <td>66</td>\n",
       "      <td>3</td>\n",
       "      <td>6.3</td>\n",
       "    </tr>\n",
       "    <tr>\n",
       "      <th>2</th>\n",
       "      <td>1</td>\n",
       "      <td>1343</td>\n",
       "      <td>383</td>\n",
       "      <td>61</td>\n",
       "      <td>2</td>\n",
       "      <td>2.9</td>\n",
       "    </tr>\n",
       "    <tr>\n",
       "      <th>3</th>\n",
       "      <td>2</td>\n",
       "      <td>2373</td>\n",
       "      <td>974</td>\n",
       "      <td>69</td>\n",
       "      <td>5</td>\n",
       "      <td>15.0</td>\n",
       "    </tr>\n",
       "    <tr>\n",
       "      <th>4</th>\n",
       "      <td>2</td>\n",
       "      <td>2426</td>\n",
       "      <td>1038</td>\n",
       "      <td>108</td>\n",
       "      <td>3</td>\n",
       "      <td>13.8</td>\n",
       "    </tr>\n",
       "    <tr>\n",
       "      <th>...</th>\n",
       "      <td>...</td>\n",
       "      <td>...</td>\n",
       "      <td>...</td>\n",
       "      <td>...</td>\n",
       "      <td>...</td>\n",
       "      <td>...</td>\n",
       "    </tr>\n",
       "    <tr>\n",
       "      <th>264831</th>\n",
       "      <td>272</td>\n",
       "      <td>272319</td>\n",
       "      <td>270088</td>\n",
       "      <td>89</td>\n",
       "      <td>2</td>\n",
       "      <td>10.8</td>\n",
       "    </tr>\n",
       "    <tr>\n",
       "      <th>264832</th>\n",
       "      <td>272</td>\n",
       "      <td>272358</td>\n",
       "      <td>270154</td>\n",
       "      <td>74</td>\n",
       "      <td>1</td>\n",
       "      <td>4.4</td>\n",
       "    </tr>\n",
       "    <tr>\n",
       "      <th>264833</th>\n",
       "      <td>272</td>\n",
       "      <td>272379</td>\n",
       "      <td>270187</td>\n",
       "      <td>51</td>\n",
       "      <td>2</td>\n",
       "      <td>8.8</td>\n",
       "    </tr>\n",
       "    <tr>\n",
       "      <th>264834</th>\n",
       "      <td>272</td>\n",
       "      <td>272379</td>\n",
       "      <td>270188</td>\n",
       "      <td>42</td>\n",
       "      <td>2</td>\n",
       "      <td>7.8</td>\n",
       "    </tr>\n",
       "    <tr>\n",
       "      <th>264835</th>\n",
       "      <td>272</td>\n",
       "      <td>272380</td>\n",
       "      <td>270189</td>\n",
       "      <td>74</td>\n",
       "      <td>2</td>\n",
       "      <td>8.8</td>\n",
       "    </tr>\n",
       "  </tbody>\n",
       "</table>\n",
       "<p>264835 rows × 6 columns</p>\n",
       "</div>"
      ],
      "text/plain": [
       "        STORE_NBR  LYLTY_CARD_NBR  TXN_ID  PROD_NBR  PROD_QTY  TOT_SALES\n",
       "0               1            1000       1         5         2        6.0\n",
       "1               1            1307     348        66         3        6.3\n",
       "2               1            1343     383        61         2        2.9\n",
       "3               2            2373     974        69         5       15.0\n",
       "4               2            2426    1038       108         3       13.8\n",
       "...           ...             ...     ...       ...       ...        ...\n",
       "264831        272          272319  270088        89         2       10.8\n",
       "264832        272          272358  270154        74         1        4.4\n",
       "264833        272          272379  270187        51         2        8.8\n",
       "264834        272          272379  270188        42         2        7.8\n",
       "264835        272          272380  270189        74         2        8.8\n",
       "\n",
       "[264835 rows x 6 columns]"
      ]
     },
     "execution_count": 30,
     "metadata": {},
     "output_type": "execute_result"
    }
   ],
   "source": [
    "ndf = tdf.select_dtypes(['int64','float64'])\n",
    "ndf"
   ]
  },
  {
   "cell_type": "code",
   "execution_count": 31,
   "id": "1d8298cf",
   "metadata": {
    "scrolled": false
   },
   "outputs": [
    {
     "data": {
      "text/plain": [
       "<Axes: >"
      ]
     },
     "execution_count": 31,
     "metadata": {},
     "output_type": "execute_result"
    },
    {
     "data": {
      "image/png": "[encoded data removed]",
      "text/plain": [
       "<Figure size 1400x700 with 1 Axes>"
      ]
     },
     "metadata": {},
     "output_type": "display_data"
    }
   ],
   "source": [
    "plt.figure(figsize = (14,7))\n",
    "sns.boxplot(ndf)"
   ]
  },
  {
   "cell_type": "code",
   "execution_count": 32,
   "id": "c59aaca6",
   "metadata": {},
   "outputs": [],
   "source": [
    "def clear_outliers(df):\n",
    "    for col in df.select_dtypes(include = ['int64','float64']).columns:\n",
    "        Q1=df[col].quantile(0.25)\n",
    "        Q3=df[col].quantile(0.75)\n",
    "        IQR = Q3 - Q1 #inter-quartile range\n",
    "        \n",
    "        lb = Q1 - 1.5 * IQR # lower bound\n",
    "        ub = Q3 + 1.5 * IQR # upper bound\n",
    "        \n",
    "        df[col] = df[col].apply(lambda x: lb if x < lb else (ub if x > ub else x))\n",
    "    return df"
   ]
  },
  {
   "cell_type": "code",
   "execution_count": 33,
   "id": "3f9efe17",
   "metadata": {},
   "outputs": [
    {
     "data": {
      "image/png": "[encoded data removed]",
      "text/plain": [
       "<Figure size 640x480 with 1 Axes>"
      ]
     },
     "metadata": {},
     "output_type": "display_data"
    }
   ],
   "source": [
    "cleared_pbdf = clear_outliers(pbdf)\n",
    "sns.boxplot(data = cleared_pbdf)\n",
    "pbdf = cleared_pbdf"
   ]
  },
  {
   "cell_type": "code",
   "execution_count": 34,
   "id": "f5c5923b",
   "metadata": {},
   "outputs": [
    {
     "data": {
      "image/png": "[encoded data removed]",
      "text/plain": [
       "<Figure size 1400x700 with 1 Axes>"
      ]
     },
     "metadata": {},
     "output_type": "display_data"
    }
   ],
   "source": [
    "cleared_tdf = clear_outliers(tdf)\n",
    "plt.figure(figsize = (14,7))\n",
    "sns.boxplot(data = cleared_tdf)\n",
    "tdf = cleared_tdf"
   ]
  },
  {
   "cell_type": "markdown",
   "id": "cda9ce6e",
   "metadata": {},
   "source": [
    "Since colum 'LYLTY_CARD_NBR' and 'TXN_ID is just a card number and transactionID and won't affect the analysis no need for removing outliers"
   ]
  },
  {
   "cell_type": "code",
   "execution_count": 35,
   "id": "381e937b",
   "metadata": {},
   "outputs": [
    {
     "data": {
      "text/plain": [
       "PROD_NAME\n",
       "Kettle Mozzarella   Basil & Pesto 175g      3304\n",
       "Kettle Tortilla ChpsHny&Jlpno Chili 150g    3296\n",
       "Cobs Popd Swt/Chlli &Sr/Cream Chips 110g    3269\n",
       "Tyrrells Crisps     Ched & Chives 165g      3268\n",
       "Cobs Popd Sea Salt  Chips 110g              3265\n",
       "                                            ... \n",
       "RRD Pc Sea Salt     165g                    1431\n",
       "Woolworths Medium   Salsa 300g              1430\n",
       "NCC Sour Cream &    Garden Chives 175g      1419\n",
       "French Fries Potato Chips 175g              1418\n",
       "WW Crinkle Cut      Original 175g           1410\n",
       "Name: count, Length: 114, dtype: int64"
      ]
     },
     "execution_count": 35,
     "metadata": {},
     "output_type": "execute_result"
    }
   ],
   "source": [
    "tdf['PROD_NAME'].value_counts()"
   ]
  },
  {
   "cell_type": "code",
   "execution_count": 36,
   "id": "6df712be",
   "metadata": {},
   "outputs": [],
   "source": [
    "def clean_product_name(product):\n",
    "    # Remove extra spaces\n",
    "    product = re.sub(r'\\s+', ' ', product).strip()\n",
    "    \n",
    "    # Extract weight if present (e.g., \"135g\" or \"135 g\")\n",
    "    weight_match = re.search(r'(\\d+\\s?[a-zA-Z]+)', product)\n",
    "    weight = weight_match.group(1) if weight_match else ''\n",
    "    \n",
    "    # Remove the weight from the product name\n",
    "    if weight:\n",
    "        product = product.replace(weight, '').strip()\n",
    "    \n",
    "    # Standardize weight formatting (e.g., \"135g\" -> \"135 g\")\n",
    "    weight = re.sub(r'(\\d+)([a-zA-Z])', r'\\1 \\2', weight)\n",
    "    \n",
    "    # Expand abbreviations and clean up terms\n",
    "    product = product.replace('S/Cream', 'Sour Cream') \\\n",
    "                     .replace('&', 'and') \\\n",
    "                     .replace('Chckn', 'Chicken') \\\n",
    "                     .replace('Chps', 'Chips') \\\n",
    "                     .replace('Hny', 'Honey') \\\n",
    "                     .replace('Jlpno', 'Jalapeno') \\\n",
    "                     .replace('Sr', 'Sour') \\\n",
    "                     .replace('Slt', 'Salt') \\\n",
    "                     .replace('Vingar', 'Vinegar') \\\n",
    "                     .replace('Orgnl', 'Original') \\\n",
    "                     .replace('Cn', 'Corn') \\\n",
    "                     .replace('Chtny', 'Chutney') \\\n",
    "                     .replace('Compny', 'Company') \\\n",
    "                     .replace('Creamandchives', 'Cream and chives') \\\n",
    "                     .replace('Hony', 'Honey')\n",
    "    # Title case the product name\n",
    "    product = product.lower()\n",
    "    if weight:\n",
    "       product = f\"{product} {weight}\"\n",
    "    \n",
    "    return product \n",
    "\n",
    "# Clean the list of products\n",
    "cleaned_products = [clean_product_name(product) for product in tdf['PROD_NAME']]\n",
    "#cleaned_products\n",
    "\n"
   ]
  },
  {
   "cell_type": "code",
   "execution_count": 37,
   "id": "d65cd243",
   "metadata": {},
   "outputs": [],
   "source": [
    "def clean_and_separate(items):\n",
    "    cleaned_data = []\n",
    "    for item in items:\n",
    "        # Regex to separate size (e.g., 175g, 300g, etc.)\n",
    "        match = re.search(r'(\\d+\\s?[gG])$', item)\n",
    "        if match:\n",
    "            size = match.group(0).strip()\n",
    "            name =  re.sub(r'\\s*\\d+\\s?[gG]', '', item).strip()\n",
    "        else:\n",
    "            name = item.strip()\n",
    "            size = None\n",
    "        cleaned_data.append({'Name': name, 'Size': size})\n",
    "    return cleaned_data\n",
    "\n",
    "# Process the list\n",
    "cleaned_list = clean_and_separate(cleaned_products)\n",
    "#cleaned_list"
   ]
  },
  {
   "cell_type": "code",
   "execution_count": 38,
   "id": "c07b823a",
   "metadata": {
    "scrolled": true
   },
   "outputs": [],
   "source": [
    "names = [item['Name'] for item in cleaned_list]  # List comprehension to extract names\n",
    "tdf['PROD_NAME'] = names\n",
    "#tdf['PROD_NAME'].unique()"
   ]
  },
  {
   "cell_type": "code",
   "execution_count": 39,
   "id": "976f3f81",
   "metadata": {},
   "outputs": [
    {
     "data": {
      "text/plain": [
       "0"
      ]
     },
     "execution_count": 39,
     "metadata": {},
     "output_type": "execute_result"
    }
   ],
   "source": [
    "sizes = [item['Size'] for item in cleaned_list]  # List comprehension to extract size\n",
    "tdf['PROD_SIZE'] = sizes\n",
    "tdf['PROD_SIZE'].isnull().sum()"
   ]
  },
  {
   "cell_type": "code",
   "execution_count": 40,
   "id": "c1fef5e6",
   "metadata": {
    "scrolled": true
   },
   "outputs": [],
   "source": [
    "# Function to extract brand names\n",
    "\n",
    "def extract_brand(product):\n",
    "    if not isinstance(product, str) or not product.strip():\n",
    "        # Handle empty or non-string cases\n",
    "        return 'Unknown'\n",
    "    \n",
    "    words = product.split()\n",
    "    if len(words) > 1:\n",
    "        if words[0] in ['natural', 'red']:\n",
    "            return ' '.join(words[:2])\n",
    "        else:\n",
    "            return words[0]\n",
    "    return words[0] if words else 'Unknown'\n",
    "\n",
    "# Apply the function to the 'PROD_NAME' column\n",
    "brand_names = tdf['PROD_NAME'].apply(extract_brand)\n",
    "\n",
    "# Display the extracted brand names\n",
    "#print(brand_names)"
   ]
  },
  {
   "cell_type": "code",
   "execution_count": 41,
   "id": "896d19c2",
   "metadata": {
    "scrolled": true
   },
   "outputs": [],
   "source": [
    "tdf['BRANDS'] = tdf['PROD_NAME'].apply(extract_brand)\n",
    "tdf['BRANDS'] = tdf['BRANDS'].replace({\n",
    "    'grain' : 'grain waves',\n",
    "    'grnwves' : 'grain waves',\n",
    "    'dorito' : 'doritos',\n",
    "    'old' : 'old el paso',\n",
    "    'natural chipco' : 'natural chip co',\n",
    "    'natural chip' : 'natural chip co',\n",
    "    'infzns' : 'infuzions',\n",
    "    'ww' : 'woolworths',\n",
    "    'snbts' : 'sunbites',\n",
    "    'smith' : 'smiths',\n",
    "    'red rock' : 'red rock deli',\n",
    "    'rrd' : 'red rock deli',\n",
    "    'burger' : 'burger kings',\n",
    "    'french' : 'french fries'\n",
    "})\n",
    "#tdf['BRANDS'].unique()"
   ]
  },
  {
   "cell_type": "code",
   "execution_count": 42,
   "id": "4540c6e8",
   "metadata": {
    "scrolled": true
   },
   "outputs": [
    {
     "data": {
      "text/html": [
       "<div>\n",
       "<style scoped>\n",
       "    .dataframe tbody tr th:only-of-type {\n",
       "        vertical-align: middle;\n",
       "    }\n",
       "\n",
       "    .dataframe tbody tr th {\n",
       "        vertical-align: top;\n",
       "    }\n",
       "\n",
       "    .dataframe thead th {\n",
       "        text-align: right;\n",
       "    }\n",
       "</style>\n",
       "<table border=\"1\" class=\"dataframe\">\n",
       "  <thead>\n",
       "    <tr style=\"text-align: right;\">\n",
       "      <th></th>\n",
       "      <th>DATE</th>\n",
       "      <th>STORE_NBR</th>\n",
       "      <th>LYLTY_CARD_NBR</th>\n",
       "      <th>TXN_ID</th>\n",
       "      <th>PROD_NBR</th>\n",
       "      <th>PROD_NAME</th>\n",
       "      <th>PROD_QTY</th>\n",
       "      <th>TOT_SALES</th>\n",
       "      <th>PROD_SIZE</th>\n",
       "      <th>BRANDS</th>\n",
       "    </tr>\n",
       "  </thead>\n",
       "  <tbody>\n",
       "    <tr>\n",
       "      <th>0</th>\n",
       "      <td>2018-10-17</td>\n",
       "      <td>1</td>\n",
       "      <td>1000.0</td>\n",
       "      <td>1.0</td>\n",
       "      <td>5</td>\n",
       "      <td>natural chip company seasalt</td>\n",
       "      <td>2.0</td>\n",
       "      <td>6.0</td>\n",
       "      <td>175 g</td>\n",
       "      <td>natural chip co</td>\n",
       "    </tr>\n",
       "    <tr>\n",
       "      <th>1</th>\n",
       "      <td>2019-05-14</td>\n",
       "      <td>1</td>\n",
       "      <td>1307.0</td>\n",
       "      <td>348.0</td>\n",
       "      <td>66</td>\n",
       "      <td>ccs nacho cheese</td>\n",
       "      <td>2.0</td>\n",
       "      <td>6.3</td>\n",
       "      <td>175 g</td>\n",
       "      <td>ccs</td>\n",
       "    </tr>\n",
       "    <tr>\n",
       "      <th>2</th>\n",
       "      <td>2019-05-20</td>\n",
       "      <td>1</td>\n",
       "      <td>1343.0</td>\n",
       "      <td>383.0</td>\n",
       "      <td>61</td>\n",
       "      <td>smiths crinkle cut chips chicken</td>\n",
       "      <td>2.0</td>\n",
       "      <td>2.9</td>\n",
       "      <td>170 g</td>\n",
       "      <td>smiths</td>\n",
       "    </tr>\n",
       "    <tr>\n",
       "      <th>3</th>\n",
       "      <td>2018-08-17</td>\n",
       "      <td>2</td>\n",
       "      <td>2373.0</td>\n",
       "      <td>974.0</td>\n",
       "      <td>69</td>\n",
       "      <td>smiths chip thinly sour creamandonion</td>\n",
       "      <td>2.0</td>\n",
       "      <td>14.9</td>\n",
       "      <td>175 g</td>\n",
       "      <td>smiths</td>\n",
       "    </tr>\n",
       "    <tr>\n",
       "      <th>4</th>\n",
       "      <td>2018-08-18</td>\n",
       "      <td>2</td>\n",
       "      <td>2426.0</td>\n",
       "      <td>1038.0</td>\n",
       "      <td>108</td>\n",
       "      <td>kettle tortilla chipshoneyandjalapeno chili</td>\n",
       "      <td>2.0</td>\n",
       "      <td>13.8</td>\n",
       "      <td>150 g</td>\n",
       "      <td>kettle</td>\n",
       "    </tr>\n",
       "    <tr>\n",
       "      <th>...</th>\n",
       "      <td>...</td>\n",
       "      <td>...</td>\n",
       "      <td>...</td>\n",
       "      <td>...</td>\n",
       "      <td>...</td>\n",
       "      <td>...</td>\n",
       "      <td>...</td>\n",
       "      <td>...</td>\n",
       "      <td>...</td>\n",
       "      <td>...</td>\n",
       "    </tr>\n",
       "    <tr>\n",
       "      <th>264831</th>\n",
       "      <td>2019-03-09</td>\n",
       "      <td>272</td>\n",
       "      <td>272319.0</td>\n",
       "      <td>270088.0</td>\n",
       "      <td>89</td>\n",
       "      <td>kettle sweet chilli and sour cream</td>\n",
       "      <td>2.0</td>\n",
       "      <td>10.8</td>\n",
       "      <td>175 g</td>\n",
       "      <td>kettle</td>\n",
       "    </tr>\n",
       "    <tr>\n",
       "      <th>264832</th>\n",
       "      <td>2018-08-13</td>\n",
       "      <td>272</td>\n",
       "      <td>272358.0</td>\n",
       "      <td>270154.0</td>\n",
       "      <td>74</td>\n",
       "      <td>tostitos splash of lime</td>\n",
       "      <td>2.0</td>\n",
       "      <td>4.4</td>\n",
       "      <td>175 g</td>\n",
       "      <td>tostitos</td>\n",
       "    </tr>\n",
       "    <tr>\n",
       "      <th>264833</th>\n",
       "      <td>2018-11-06</td>\n",
       "      <td>272</td>\n",
       "      <td>272379.0</td>\n",
       "      <td>270187.0</td>\n",
       "      <td>51</td>\n",
       "      <td>doritos mexicana</td>\n",
       "      <td>2.0</td>\n",
       "      <td>8.8</td>\n",
       "      <td>170 g</td>\n",
       "      <td>doritos</td>\n",
       "    </tr>\n",
       "    <tr>\n",
       "      <th>264834</th>\n",
       "      <td>2018-12-27</td>\n",
       "      <td>272</td>\n",
       "      <td>272379.0</td>\n",
       "      <td>270188.0</td>\n",
       "      <td>42</td>\n",
       "      <td>doritos corn chip mexican jalapeno</td>\n",
       "      <td>2.0</td>\n",
       "      <td>7.8</td>\n",
       "      <td>150 g</td>\n",
       "      <td>doritos</td>\n",
       "    </tr>\n",
       "    <tr>\n",
       "      <th>264835</th>\n",
       "      <td>2018-09-22</td>\n",
       "      <td>272</td>\n",
       "      <td>272380.0</td>\n",
       "      <td>270189.0</td>\n",
       "      <td>74</td>\n",
       "      <td>tostitos splash of lime</td>\n",
       "      <td>2.0</td>\n",
       "      <td>8.8</td>\n",
       "      <td>175 g</td>\n",
       "      <td>tostitos</td>\n",
       "    </tr>\n",
       "  </tbody>\n",
       "</table>\n",
       "<p>264835 rows × 10 columns</p>\n",
       "</div>"
      ],
      "text/plain": [
       "             DATE  STORE_NBR  LYLTY_CARD_NBR    TXN_ID  PROD_NBR  \\\n",
       "0      2018-10-17          1          1000.0       1.0         5   \n",
       "1      2019-05-14          1          1307.0     348.0        66   \n",
       "2      2019-05-20          1          1343.0     383.0        61   \n",
       "3      2018-08-17          2          2373.0     974.0        69   \n",
       "4      2018-08-18          2          2426.0    1038.0       108   \n",
       "...           ...        ...             ...       ...       ...   \n",
       "264831 2019-03-09        272        272319.0  270088.0        89   \n",
       "264832 2018-08-13        272        272358.0  270154.0        74   \n",
       "264833 2018-11-06        272        272379.0  270187.0        51   \n",
       "264834 2018-12-27        272        272379.0  270188.0        42   \n",
       "264835 2018-09-22        272        272380.0  270189.0        74   \n",
       "\n",
       "                                          PROD_NAME  PROD_QTY  TOT_SALES  \\\n",
       "0                      natural chip company seasalt       2.0        6.0   \n",
       "1                                  ccs nacho cheese       2.0        6.3   \n",
       "2                  smiths crinkle cut chips chicken       2.0        2.9   \n",
       "3             smiths chip thinly sour creamandonion       2.0       14.9   \n",
       "4       kettle tortilla chipshoneyandjalapeno chili       2.0       13.8   \n",
       "...                                             ...       ...        ...   \n",
       "264831           kettle sweet chilli and sour cream       2.0       10.8   \n",
       "264832                      tostitos splash of lime       2.0        4.4   \n",
       "264833                             doritos mexicana       2.0        8.8   \n",
       "264834           doritos corn chip mexican jalapeno       2.0        7.8   \n",
       "264835                      tostitos splash of lime       2.0        8.8   \n",
       "\n",
       "       PROD_SIZE           BRANDS  \n",
       "0          175 g  natural chip co  \n",
       "1          175 g              ccs  \n",
       "2          170 g           smiths  \n",
       "3          175 g           smiths  \n",
       "4          150 g           kettle  \n",
       "...          ...              ...  \n",
       "264831     175 g           kettle  \n",
       "264832     175 g         tostitos  \n",
       "264833     170 g          doritos  \n",
       "264834     150 g          doritos  \n",
       "264835     175 g         tostitos  \n",
       "\n",
       "[264835 rows x 10 columns]"
      ]
     },
     "execution_count": 42,
     "metadata": {},
     "output_type": "execute_result"
    }
   ],
   "source": [
    "tdf"
   ]
  },
  {
   "cell_type": "code",
   "execution_count": 43,
   "id": "0f410739",
   "metadata": {},
   "outputs": [],
   "source": [
    "purchase_behavior_df = pbdf\n",
    "transaction_data_df = tdf"
   ]
  },
  {
   "cell_type": "code",
   "execution_count": 44,
   "id": "ba1d9a76",
   "metadata": {},
   "outputs": [],
   "source": [
    "from pandasql import sqldf"
   ]
  },
  {
   "cell_type": "code",
   "execution_count": 45,
   "id": "04566921",
   "metadata": {},
   "outputs": [
    {
     "data": {
      "text/html": [
       "<div>\n",
       "<style scoped>\n",
       "    .dataframe tbody tr th:only-of-type {\n",
       "        vertical-align: middle;\n",
       "    }\n",
       "\n",
       "    .dataframe tbody tr th {\n",
       "        vertical-align: top;\n",
       "    }\n",
       "\n",
       "    .dataframe thead th {\n",
       "        text-align: right;\n",
       "    }\n",
       "</style>\n",
       "<table border=\"1\" class=\"dataframe\">\n",
       "  <thead>\n",
       "    <tr style=\"text-align: right;\">\n",
       "      <th></th>\n",
       "      <th>STORE_NBR</th>\n",
       "      <th>count(PROD_NAME)</th>\n",
       "    </tr>\n",
       "  </thead>\n",
       "  <tbody>\n",
       "    <tr>\n",
       "      <th>0</th>\n",
       "      <td>1</td>\n",
       "      <td>573</td>\n",
       "    </tr>\n",
       "    <tr>\n",
       "      <th>1</th>\n",
       "      <td>2</td>\n",
       "      <td>506</td>\n",
       "    </tr>\n",
       "    <tr>\n",
       "      <th>2</th>\n",
       "      <td>3</td>\n",
       "      <td>1502</td>\n",
       "    </tr>\n",
       "    <tr>\n",
       "      <th>3</th>\n",
       "      <td>4</td>\n",
       "      <td>1678</td>\n",
       "    </tr>\n",
       "    <tr>\n",
       "      <th>4</th>\n",
       "      <td>5</td>\n",
       "      <td>1361</td>\n",
       "    </tr>\n",
       "    <tr>\n",
       "      <th>...</th>\n",
       "      <td>...</td>\n",
       "      <td>...</td>\n",
       "    </tr>\n",
       "    <tr>\n",
       "      <th>267</th>\n",
       "      <td>268</td>\n",
       "      <td>546</td>\n",
       "    </tr>\n",
       "    <tr>\n",
       "      <th>268</th>\n",
       "      <td>269</td>\n",
       "      <td>1607</td>\n",
       "    </tr>\n",
       "    <tr>\n",
       "      <th>269</th>\n",
       "      <td>270</td>\n",
       "      <td>1630</td>\n",
       "    </tr>\n",
       "    <tr>\n",
       "      <th>270</th>\n",
       "      <td>271</td>\n",
       "      <td>1385</td>\n",
       "    </tr>\n",
       "    <tr>\n",
       "      <th>271</th>\n",
       "      <td>272</td>\n",
       "      <td>563</td>\n",
       "    </tr>\n",
       "  </tbody>\n",
       "</table>\n",
       "<p>272 rows × 2 columns</p>\n",
       "</div>"
      ],
      "text/plain": [
       "     STORE_NBR  count(PROD_NAME)\n",
       "0            1               573\n",
       "1            2               506\n",
       "2            3              1502\n",
       "3            4              1678\n",
       "4            5              1361\n",
       "..         ...               ...\n",
       "267        268               546\n",
       "268        269              1607\n",
       "269        270              1630\n",
       "270        271              1385\n",
       "271        272               563\n",
       "\n",
       "[272 rows x 2 columns]"
      ]
     },
     "execution_count": 45,
     "metadata": {},
     "output_type": "execute_result"
    }
   ],
   "source": [
    "sqldf('\\\n",
    "      select STORE_NBR, count(PROD_NAME)\\\n",
    "      from tdf\\\n",
    "      group by 1;\\\n",
    "      ')"
   ]
  },
  {
   "cell_type": "code",
   "execution_count": 46,
   "id": "3ca7740f",
   "metadata": {},
   "outputs": [
    {
     "data": {
      "text/plain": [
       "STORE_NBR\n",
       "1       573\n",
       "2       506\n",
       "3      1502\n",
       "4      1678\n",
       "5      1361\n",
       "       ... \n",
       "268     546\n",
       "269    1607\n",
       "270    1630\n",
       "271    1385\n",
       "272     563\n",
       "Name: PROD_NAME, Length: 272, dtype: int64"
      ]
     },
     "execution_count": 46,
     "metadata": {},
     "output_type": "execute_result"
    }
   ],
   "source": [
    "tdf.groupby('STORE_NBR')['PROD_NAME'].agg('count')"
   ]
  },
  {
   "cell_type": "code",
   "execution_count": 47,
   "id": "8c1f03a9",
   "metadata": {},
   "outputs": [
    {
     "data": {
      "text/plain": [
       "STORE_NBR\n",
       "1       2393.60\n",
       "2       2005.70\n",
       "3      12802.45\n",
       "4      14644.85\n",
       "5       9489.70\n",
       "         ...   \n",
       "268     2588.65\n",
       "269    11198.20\n",
       "270    11276.45\n",
       "271     9721.80\n",
       "272     4647.25\n",
       "Name: TOT_SALES, Length: 272, dtype: float64"
      ]
     },
     "execution_count": 47,
     "metadata": {},
     "output_type": "execute_result"
    }
   ],
   "source": [
    "# total sales per store number\n",
    "tdf.groupby('STORE_NBR')['TOT_SALES'].agg('sum')"
   ]
  },
  {
   "cell_type": "code",
   "execution_count": 48,
   "id": "470dee2b",
   "metadata": {},
   "outputs": [
    {
     "name": "stdout",
     "output_type": "stream",
     "text": [
      " Top 3 Most transaction Store Number::\n",
      "STORE_NBR\n",
      "226    2022\n",
      "88     1873\n",
      "93     1832\n",
      "Name: TXN_ID, dtype: int64\n",
      "\n",
      "\n",
      "\n",
      "Store with least Transaction::\n",
      "           transactions\n",
      "STORE_NBR              \n",
      "258                  47\n",
      "198                  47\n",
      "117                  46\n",
      "85                    3\n",
      "193                   3\n",
      "252                   2\n",
      "31                    2\n",
      "211                   2\n",
      "206                   2\n",
      "11                    2\n",
      "92                    1\n",
      "76                    1\n"
     ]
    }
   ],
   "source": [
    "# total transactions per store number\n",
    "transactions_per_store_number = tdf.groupby('STORE_NBR')['TXN_ID'].agg('count').sort_values(ascending = False)\n",
    "print(' Top 3 Most transaction Store Number::')\n",
    "print(transactions_per_store_number.head(3))\n",
    "print('\\n\\n')\n",
    "print('Store with least Transaction::')\n",
    "low_trans = transactions_per_store_number.to_frame(name='transactions')\n",
    "print(low_trans.query('transactions < 50'))"
   ]
  },
  {
   "cell_type": "code",
   "execution_count": 49,
   "id": "7797d4b5",
   "metadata": {},
   "outputs": [
    {
     "name": "stdout",
     "output_type": "stream",
     "text": [
      " Top 5 product name per total sale::\n",
      "PROD_NAME\n",
      "dorito corn chp supreme                  39067.75\n",
      "smiths crnkle chip original big bag      36205.40\n",
      "smiths crinkle chips salt and vinegar    34719.50\n",
      "kettle mozzarella basil and pesto        34291.20\n",
      "smiths crinkle original                  34219.20\n",
      "Name: TOT_SALES, dtype: float64\n",
      "\n",
      "\n",
      "\n",
      " Bottom 5 product name per total sale::\n",
      "PROD_NAME\n",
      "ww crinkle cut chicken               4702.2\n",
      "sunbites whlegrn crisps frch/onin    4600.2\n",
      "ww crinkle cut original              4532.2\n",
      "woolworths mild salsa                4234.5\n",
      "woolworths medium salsa              4050.0\n",
      "Name: TOT_SALES, dtype: float64\n"
     ]
    }
   ],
   "source": [
    "# total sales per prod_name\n",
    "total_sales_per_prod_name = tdf.groupby('PROD_NAME')['TOT_SALES'].agg('sum').sort_values(ascending = False)\n",
    "print(' Top 5 product name per total sale::')\n",
    "print(total_sales_per_prod_name.head(5))\n",
    "print('\\n\\n')\n",
    "print('Bottom 5 product name per total sale::')\n",
    "print(total_sales_per_prod_name.tail(5))"
   ]
  },
  {
   "cell_type": "code",
   "execution_count": 50,
   "id": "aefdbeb3",
   "metadata": {},
   "outputs": [
    {
     "data": {
      "text/html": [
       "<div>\n",
       "<style scoped>\n",
       "    .dataframe tbody tr th:only-of-type {\n",
       "        vertical-align: middle;\n",
       "    }\n",
       "\n",
       "    .dataframe tbody tr th {\n",
       "        vertical-align: top;\n",
       "    }\n",
       "\n",
       "    .dataframe thead th {\n",
       "        text-align: right;\n",
       "    }\n",
       "</style>\n",
       "<table border=\"1\" class=\"dataframe\">\n",
       "  <thead>\n",
       "    <tr style=\"text-align: right;\">\n",
       "      <th></th>\n",
       "      <th>DATE</th>\n",
       "      <th>STORE_NBR</th>\n",
       "      <th>LYLTY_CARD_NBR</th>\n",
       "      <th>TXN_ID</th>\n",
       "      <th>PROD_NBR</th>\n",
       "      <th>PROD_NAME</th>\n",
       "      <th>PROD_QTY</th>\n",
       "      <th>TOT_SALES</th>\n",
       "      <th>PROD_SIZE</th>\n",
       "      <th>BRANDS</th>\n",
       "      <th>LIFESTAGE</th>\n",
       "      <th>PREMIUM_CUSTOMER</th>\n",
       "    </tr>\n",
       "  </thead>\n",
       "  <tbody>\n",
       "    <tr>\n",
       "      <th>0</th>\n",
       "      <td>2018-10-17</td>\n",
       "      <td>1</td>\n",
       "      <td>1000.0</td>\n",
       "      <td>1.0</td>\n",
       "      <td>5</td>\n",
       "      <td>natural chip company seasalt</td>\n",
       "      <td>2.0</td>\n",
       "      <td>6.0</td>\n",
       "      <td>175 g</td>\n",
       "      <td>natural chip co</td>\n",
       "      <td>YOUNG SINGLES/COUPLES</td>\n",
       "      <td>Premium</td>\n",
       "    </tr>\n",
       "    <tr>\n",
       "      <th>1</th>\n",
       "      <td>2019-05-14</td>\n",
       "      <td>1</td>\n",
       "      <td>1307.0</td>\n",
       "      <td>348.0</td>\n",
       "      <td>66</td>\n",
       "      <td>ccs nacho cheese</td>\n",
       "      <td>2.0</td>\n",
       "      <td>6.3</td>\n",
       "      <td>175 g</td>\n",
       "      <td>ccs</td>\n",
       "      <td>MIDAGE SINGLES/COUPLES</td>\n",
       "      <td>Budget</td>\n",
       "    </tr>\n",
       "    <tr>\n",
       "      <th>2</th>\n",
       "      <td>2019-05-20</td>\n",
       "      <td>1</td>\n",
       "      <td>1343.0</td>\n",
       "      <td>383.0</td>\n",
       "      <td>61</td>\n",
       "      <td>smiths crinkle cut chips chicken</td>\n",
       "      <td>2.0</td>\n",
       "      <td>2.9</td>\n",
       "      <td>170 g</td>\n",
       "      <td>smiths</td>\n",
       "      <td>MIDAGE SINGLES/COUPLES</td>\n",
       "      <td>Budget</td>\n",
       "    </tr>\n",
       "    <tr>\n",
       "      <th>3</th>\n",
       "      <td>2018-08-17</td>\n",
       "      <td>2</td>\n",
       "      <td>2373.0</td>\n",
       "      <td>974.0</td>\n",
       "      <td>69</td>\n",
       "      <td>smiths chip thinly sour creamandonion</td>\n",
       "      <td>2.0</td>\n",
       "      <td>14.9</td>\n",
       "      <td>175 g</td>\n",
       "      <td>smiths</td>\n",
       "      <td>MIDAGE SINGLES/COUPLES</td>\n",
       "      <td>Budget</td>\n",
       "    </tr>\n",
       "    <tr>\n",
       "      <th>4</th>\n",
       "      <td>2018-08-18</td>\n",
       "      <td>2</td>\n",
       "      <td>2426.0</td>\n",
       "      <td>1038.0</td>\n",
       "      <td>108</td>\n",
       "      <td>kettle tortilla chipshoneyandjalapeno chili</td>\n",
       "      <td>2.0</td>\n",
       "      <td>13.8</td>\n",
       "      <td>150 g</td>\n",
       "      <td>kettle</td>\n",
       "      <td>MIDAGE SINGLES/COUPLES</td>\n",
       "      <td>Budget</td>\n",
       "    </tr>\n",
       "    <tr>\n",
       "      <th>...</th>\n",
       "      <td>...</td>\n",
       "      <td>...</td>\n",
       "      <td>...</td>\n",
       "      <td>...</td>\n",
       "      <td>...</td>\n",
       "      <td>...</td>\n",
       "      <td>...</td>\n",
       "      <td>...</td>\n",
       "      <td>...</td>\n",
       "      <td>...</td>\n",
       "      <td>...</td>\n",
       "      <td>...</td>\n",
       "    </tr>\n",
       "    <tr>\n",
       "      <th>264830</th>\n",
       "      <td>2019-03-09</td>\n",
       "      <td>272</td>\n",
       "      <td>272319.0</td>\n",
       "      <td>270088.0</td>\n",
       "      <td>89</td>\n",
       "      <td>kettle sweet chilli and sour cream</td>\n",
       "      <td>2.0</td>\n",
       "      <td>10.8</td>\n",
       "      <td>175 g</td>\n",
       "      <td>kettle</td>\n",
       "      <td>YOUNG SINGLES/COUPLES</td>\n",
       "      <td>Premium</td>\n",
       "    </tr>\n",
       "    <tr>\n",
       "      <th>264831</th>\n",
       "      <td>2018-08-13</td>\n",
       "      <td>272</td>\n",
       "      <td>272358.0</td>\n",
       "      <td>270154.0</td>\n",
       "      <td>74</td>\n",
       "      <td>tostitos splash of lime</td>\n",
       "      <td>2.0</td>\n",
       "      <td>4.4</td>\n",
       "      <td>175 g</td>\n",
       "      <td>tostitos</td>\n",
       "      <td>YOUNG SINGLES/COUPLES</td>\n",
       "      <td>Premium</td>\n",
       "    </tr>\n",
       "    <tr>\n",
       "      <th>264832</th>\n",
       "      <td>2018-11-06</td>\n",
       "      <td>272</td>\n",
       "      <td>272379.0</td>\n",
       "      <td>270187.0</td>\n",
       "      <td>51</td>\n",
       "      <td>doritos mexicana</td>\n",
       "      <td>2.0</td>\n",
       "      <td>8.8</td>\n",
       "      <td>170 g</td>\n",
       "      <td>doritos</td>\n",
       "      <td>YOUNG SINGLES/COUPLES</td>\n",
       "      <td>Premium</td>\n",
       "    </tr>\n",
       "    <tr>\n",
       "      <th>264833</th>\n",
       "      <td>2018-12-27</td>\n",
       "      <td>272</td>\n",
       "      <td>272379.0</td>\n",
       "      <td>270188.0</td>\n",
       "      <td>42</td>\n",
       "      <td>doritos corn chip mexican jalapeno</td>\n",
       "      <td>2.0</td>\n",
       "      <td>7.8</td>\n",
       "      <td>150 g</td>\n",
       "      <td>doritos</td>\n",
       "      <td>YOUNG SINGLES/COUPLES</td>\n",
       "      <td>Premium</td>\n",
       "    </tr>\n",
       "    <tr>\n",
       "      <th>264834</th>\n",
       "      <td>2018-09-22</td>\n",
       "      <td>272</td>\n",
       "      <td>272380.0</td>\n",
       "      <td>270189.0</td>\n",
       "      <td>74</td>\n",
       "      <td>tostitos splash of lime</td>\n",
       "      <td>2.0</td>\n",
       "      <td>8.8</td>\n",
       "      <td>175 g</td>\n",
       "      <td>tostitos</td>\n",
       "      <td>YOUNG SINGLES/COUPLES</td>\n",
       "      <td>Premium</td>\n",
       "    </tr>\n",
       "  </tbody>\n",
       "</table>\n",
       "<p>264835 rows × 12 columns</p>\n",
       "</div>"
      ],
      "text/plain": [
       "             DATE  STORE_NBR  LYLTY_CARD_NBR    TXN_ID  PROD_NBR  \\\n",
       "0      2018-10-17          1          1000.0       1.0         5   \n",
       "1      2019-05-14          1          1307.0     348.0        66   \n",
       "2      2019-05-20          1          1343.0     383.0        61   \n",
       "3      2018-08-17          2          2373.0     974.0        69   \n",
       "4      2018-08-18          2          2426.0    1038.0       108   \n",
       "...           ...        ...             ...       ...       ...   \n",
       "264830 2019-03-09        272        272319.0  270088.0        89   \n",
       "264831 2018-08-13        272        272358.0  270154.0        74   \n",
       "264832 2018-11-06        272        272379.0  270187.0        51   \n",
       "264833 2018-12-27        272        272379.0  270188.0        42   \n",
       "264834 2018-09-22        272        272380.0  270189.0        74   \n",
       "\n",
       "                                          PROD_NAME  PROD_QTY  TOT_SALES  \\\n",
       "0                      natural chip company seasalt       2.0        6.0   \n",
       "1                                  ccs nacho cheese       2.0        6.3   \n",
       "2                  smiths crinkle cut chips chicken       2.0        2.9   \n",
       "3             smiths chip thinly sour creamandonion       2.0       14.9   \n",
       "4       kettle tortilla chipshoneyandjalapeno chili       2.0       13.8   \n",
       "...                                             ...       ...        ...   \n",
       "264830           kettle sweet chilli and sour cream       2.0       10.8   \n",
       "264831                      tostitos splash of lime       2.0        4.4   \n",
       "264832                             doritos mexicana       2.0        8.8   \n",
       "264833           doritos corn chip mexican jalapeno       2.0        7.8   \n",
       "264834                      tostitos splash of lime       2.0        8.8   \n",
       "\n",
       "       PROD_SIZE           BRANDS               LIFESTAGE PREMIUM_CUSTOMER  \n",
       "0          175 g  natural chip co   YOUNG SINGLES/COUPLES          Premium  \n",
       "1          175 g              ccs  MIDAGE SINGLES/COUPLES           Budget  \n",
       "2          170 g           smiths  MIDAGE SINGLES/COUPLES           Budget  \n",
       "3          175 g           smiths  MIDAGE SINGLES/COUPLES           Budget  \n",
       "4          150 g           kettle  MIDAGE SINGLES/COUPLES           Budget  \n",
       "...          ...              ...                     ...              ...  \n",
       "264830     175 g           kettle   YOUNG SINGLES/COUPLES          Premium  \n",
       "264831     175 g         tostitos   YOUNG SINGLES/COUPLES          Premium  \n",
       "264832     170 g          doritos   YOUNG SINGLES/COUPLES          Premium  \n",
       "264833     150 g          doritos   YOUNG SINGLES/COUPLES          Premium  \n",
       "264834     175 g         tostitos   YOUNG SINGLES/COUPLES          Premium  \n",
       "\n",
       "[264835 rows x 12 columns]"
      ]
     },
     "execution_count": 50,
     "metadata": {},
     "output_type": "execute_result"
    }
   ],
   "source": [
    "#merging transaction_data_df & purchase_behavior_df dataset\n",
    "merge_data = pd.merge(transaction_data_df, purchase_behavior_df, on='LYLTY_CARD_NBR', how = 'left')\n",
    "merge_data"
   ]
  },
  {
   "cell_type": "code",
   "execution_count": 51,
   "id": "abc9cc62",
   "metadata": {},
   "outputs": [
    {
     "data": {
      "text/html": [
       "<div>\n",
       "<style scoped>\n",
       "    .dataframe tbody tr th:only-of-type {\n",
       "        vertical-align: middle;\n",
       "    }\n",
       "\n",
       "    .dataframe tbody tr th {\n",
       "        vertical-align: top;\n",
       "    }\n",
       "\n",
       "    .dataframe thead th {\n",
       "        text-align: right;\n",
       "    }\n",
       "</style>\n",
       "<table border=\"1\" class=\"dataframe\">\n",
       "  <thead>\n",
       "    <tr style=\"text-align: right;\">\n",
       "      <th></th>\n",
       "      <th>DATE</th>\n",
       "      <th>STORE_NBR</th>\n",
       "      <th>LYLTY_CARD_NBR</th>\n",
       "      <th>TXN_ID</th>\n",
       "      <th>PROD_NBR</th>\n",
       "      <th>PROD_NAME</th>\n",
       "      <th>PROD_QTY</th>\n",
       "      <th>TOT_SALES</th>\n",
       "      <th>PROD_SIZE</th>\n",
       "      <th>BRANDS</th>\n",
       "    </tr>\n",
       "  </thead>\n",
       "  <tbody>\n",
       "    <tr>\n",
       "      <th>0</th>\n",
       "      <td>2018-10-17</td>\n",
       "      <td>1</td>\n",
       "      <td>1000.0</td>\n",
       "      <td>1.0</td>\n",
       "      <td>5</td>\n",
       "      <td>natural chip company seasalt</td>\n",
       "      <td>2.0</td>\n",
       "      <td>6.0</td>\n",
       "      <td>175 g</td>\n",
       "      <td>natural chip co</td>\n",
       "    </tr>\n",
       "    <tr>\n",
       "      <th>1</th>\n",
       "      <td>2019-05-14</td>\n",
       "      <td>1</td>\n",
       "      <td>1307.0</td>\n",
       "      <td>348.0</td>\n",
       "      <td>66</td>\n",
       "      <td>ccs nacho cheese</td>\n",
       "      <td>2.0</td>\n",
       "      <td>6.3</td>\n",
       "      <td>175 g</td>\n",
       "      <td>ccs</td>\n",
       "    </tr>\n",
       "    <tr>\n",
       "      <th>2</th>\n",
       "      <td>2019-05-20</td>\n",
       "      <td>1</td>\n",
       "      <td>1343.0</td>\n",
       "      <td>383.0</td>\n",
       "      <td>61</td>\n",
       "      <td>smiths crinkle cut chips chicken</td>\n",
       "      <td>2.0</td>\n",
       "      <td>2.9</td>\n",
       "      <td>170 g</td>\n",
       "      <td>smiths</td>\n",
       "    </tr>\n",
       "    <tr>\n",
       "      <th>3</th>\n",
       "      <td>2018-08-17</td>\n",
       "      <td>2</td>\n",
       "      <td>2373.0</td>\n",
       "      <td>974.0</td>\n",
       "      <td>69</td>\n",
       "      <td>smiths chip thinly sour creamandonion</td>\n",
       "      <td>2.0</td>\n",
       "      <td>14.9</td>\n",
       "      <td>175 g</td>\n",
       "      <td>smiths</td>\n",
       "    </tr>\n",
       "    <tr>\n",
       "      <th>4</th>\n",
       "      <td>2018-08-18</td>\n",
       "      <td>2</td>\n",
       "      <td>2426.0</td>\n",
       "      <td>1038.0</td>\n",
       "      <td>108</td>\n",
       "      <td>kettle tortilla chipshoneyandjalapeno chili</td>\n",
       "      <td>2.0</td>\n",
       "      <td>13.8</td>\n",
       "      <td>150 g</td>\n",
       "      <td>kettle</td>\n",
       "    </tr>\n",
       "    <tr>\n",
       "      <th>...</th>\n",
       "      <td>...</td>\n",
       "      <td>...</td>\n",
       "      <td>...</td>\n",
       "      <td>...</td>\n",
       "      <td>...</td>\n",
       "      <td>...</td>\n",
       "      <td>...</td>\n",
       "      <td>...</td>\n",
       "      <td>...</td>\n",
       "      <td>...</td>\n",
       "    </tr>\n",
       "    <tr>\n",
       "      <th>264831</th>\n",
       "      <td>2019-03-09</td>\n",
       "      <td>272</td>\n",
       "      <td>272319.0</td>\n",
       "      <td>270088.0</td>\n",
       "      <td>89</td>\n",
       "      <td>kettle sweet chilli and sour cream</td>\n",
       "      <td>2.0</td>\n",
       "      <td>10.8</td>\n",
       "      <td>175 g</td>\n",
       "      <td>kettle</td>\n",
       "    </tr>\n",
       "    <tr>\n",
       "      <th>264832</th>\n",
       "      <td>2018-08-13</td>\n",
       "      <td>272</td>\n",
       "      <td>272358.0</td>\n",
       "      <td>270154.0</td>\n",
       "      <td>74</td>\n",
       "      <td>tostitos splash of lime</td>\n",
       "      <td>2.0</td>\n",
       "      <td>4.4</td>\n",
       "      <td>175 g</td>\n",
       "      <td>tostitos</td>\n",
       "    </tr>\n",
       "    <tr>\n",
       "      <th>264833</th>\n",
       "      <td>2018-11-06</td>\n",
       "      <td>272</td>\n",
       "      <td>272379.0</td>\n",
       "      <td>270187.0</td>\n",
       "      <td>51</td>\n",
       "      <td>doritos mexicana</td>\n",
       "      <td>2.0</td>\n",
       "      <td>8.8</td>\n",
       "      <td>170 g</td>\n",
       "      <td>doritos</td>\n",
       "    </tr>\n",
       "    <tr>\n",
       "      <th>264834</th>\n",
       "      <td>2018-12-27</td>\n",
       "      <td>272</td>\n",
       "      <td>272379.0</td>\n",
       "      <td>270188.0</td>\n",
       "      <td>42</td>\n",
       "      <td>doritos corn chip mexican jalapeno</td>\n",
       "      <td>2.0</td>\n",
       "      <td>7.8</td>\n",
       "      <td>150 g</td>\n",
       "      <td>doritos</td>\n",
       "    </tr>\n",
       "    <tr>\n",
       "      <th>264835</th>\n",
       "      <td>2018-09-22</td>\n",
       "      <td>272</td>\n",
       "      <td>272380.0</td>\n",
       "      <td>270189.0</td>\n",
       "      <td>74</td>\n",
       "      <td>tostitos splash of lime</td>\n",
       "      <td>2.0</td>\n",
       "      <td>8.8</td>\n",
       "      <td>175 g</td>\n",
       "      <td>tostitos</td>\n",
       "    </tr>\n",
       "  </tbody>\n",
       "</table>\n",
       "<p>264835 rows × 10 columns</p>\n",
       "</div>"
      ],
      "text/plain": [
       "             DATE  STORE_NBR  LYLTY_CARD_NBR    TXN_ID  PROD_NBR  \\\n",
       "0      2018-10-17          1          1000.0       1.0         5   \n",
       "1      2019-05-14          1          1307.0     348.0        66   \n",
       "2      2019-05-20          1          1343.0     383.0        61   \n",
       "3      2018-08-17          2          2373.0     974.0        69   \n",
       "4      2018-08-18          2          2426.0    1038.0       108   \n",
       "...           ...        ...             ...       ...       ...   \n",
       "264831 2019-03-09        272        272319.0  270088.0        89   \n",
       "264832 2018-08-13        272        272358.0  270154.0        74   \n",
       "264833 2018-11-06        272        272379.0  270187.0        51   \n",
       "264834 2018-12-27        272        272379.0  270188.0        42   \n",
       "264835 2018-09-22        272        272380.0  270189.0        74   \n",
       "\n",
       "                                          PROD_NAME  PROD_QTY  TOT_SALES  \\\n",
       "0                      natural chip company seasalt       2.0        6.0   \n",
       "1                                  ccs nacho cheese       2.0        6.3   \n",
       "2                  smiths crinkle cut chips chicken       2.0        2.9   \n",
       "3             smiths chip thinly sour creamandonion       2.0       14.9   \n",
       "4       kettle tortilla chipshoneyandjalapeno chili       2.0       13.8   \n",
       "...                                             ...       ...        ...   \n",
       "264831           kettle sweet chilli and sour cream       2.0       10.8   \n",
       "264832                      tostitos splash of lime       2.0        4.4   \n",
       "264833                             doritos mexicana       2.0        8.8   \n",
       "264834           doritos corn chip mexican jalapeno       2.0        7.8   \n",
       "264835                      tostitos splash of lime       2.0        8.8   \n",
       "\n",
       "       PROD_SIZE           BRANDS  \n",
       "0          175 g  natural chip co  \n",
       "1          175 g              ccs  \n",
       "2          170 g           smiths  \n",
       "3          175 g           smiths  \n",
       "4          150 g           kettle  \n",
       "...          ...              ...  \n",
       "264831     175 g           kettle  \n",
       "264832     175 g         tostitos  \n",
       "264833     170 g          doritos  \n",
       "264834     150 g          doritos  \n",
       "264835     175 g         tostitos  \n",
       "\n",
       "[264835 rows x 10 columns]"
      ]
     },
     "execution_count": 51,
     "metadata": {},
     "output_type": "execute_result"
    }
   ],
   "source": [
    "transaction_data_df"
   ]
  },
  {
   "cell_type": "code",
   "execution_count": 52,
   "id": "ba47ddbe",
   "metadata": {},
   "outputs": [
    {
     "data": {
      "text/plain": [
       "15726     405352.25\n",
       "25110     270209.00\n",
       "25109     270208.00\n",
       "25108     270207.00\n",
       "25107     270206.00\n",
       "            ...    \n",
       "99838          5.00\n",
       "185543         4.00\n",
       "185542         3.00\n",
       "238495         2.00\n",
       "0              1.00\n",
       "Name: TXN_ID, Length: 264835, dtype: float64"
      ]
     },
     "execution_count": 52,
     "metadata": {},
     "output_type": "execute_result"
    }
   ],
   "source": [
    "transaction_data_df['TXN_ID'].sort_values(ascending= False)"
   ]
  },
  {
   "cell_type": "code",
   "execution_count": 53,
   "id": "548552be",
   "metadata": {},
   "outputs": [],
   "source": [
    "transaction_data_df.to_csv('final_QP1.csv')"
   ]
  },
  {
   "cell_type": "code",
   "execution_count": 54,
   "id": "ff8a0675",
   "metadata": {},
   "outputs": [],
   "source": [
    "merge_data.to_csv('finmergedata.csv')"
   ]
  },
  {
   "cell_type": "code",
   "execution_count": null,
   "id": "6a835d5e",
   "metadata": {},
   "outputs": [],
   "source": []
  }
 ],
 "metadata": {
  "kernelspec": {
   "display_name": "Python 3 (ipykernel)",
   "language": "python",
   "name": "python3"
  },
  "language_info": {
   "codemirror_mode": {
    "name": "ipython",
    "version": 3
   },
   "file_extension": ".py",
   "mimetype": "text/x-python",
   "name": "python",
   "nbconvert_exporter": "python",
   "pygments_lexer": "ipython3",
   "version": "3.11.5"
  }
 },
 "nbformat": 4,
 "nbformat_minor": 5
}
